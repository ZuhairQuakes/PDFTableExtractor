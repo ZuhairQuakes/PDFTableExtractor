{
 "cells": [
  {
   "cell_type": "code",
   "execution_count": 7,
   "id": "2bd2d058",
   "metadata": {},
   "outputs": [],
   "source": [
    "import camelot\n",
    "import pandas as pd\n",
    "import os\n",
    "from typing import List"
   ]
  },
  {
   "cell_type": "code",
   "execution_count": 8,
   "id": "4e68a779",
   "metadata": {},
   "outputs": [
    {
     "name": "stdout",
     "output_type": "stream",
     "text": [
      "Processing PDF: papers/paper.pdf\n",
      "  Numerical Table 1 saved to extracted_numerical_tables/paper_table_1_numerical.csv\n",
      "  Numerical Table 2 saved to extracted_numerical_tables/paper_table_2_numerical.csv\n",
      "  Numerical Table 3 saved to extracted_numerical_tables/paper_table_3_numerical.csv\n",
      "  Numerical Table 4 saved to extracted_numerical_tables/paper_table_4_numerical.csv\n",
      "  Numerical Table 5 saved to extracted_numerical_tables/paper_table_5_numerical.csv\n",
      "  Numerical Table 6 saved to extracted_numerical_tables/paper_table_6_numerical.csv\n",
      "  Numerical Table 7 saved to extracted_numerical_tables/paper_table_7_numerical.csv\n",
      "  Numerical Table 8 saved to extracted_numerical_tables/paper_table_8_numerical.csv\n",
      "  Numerical Table 9 saved to extracted_numerical_tables/paper_table_9_numerical.csv\n",
      "  Numerical Table 10 saved to extracted_numerical_tables/paper_table_10_numerical.csv\n",
      "  Numerical Table 11 saved to extracted_numerical_tables/paper_table_11_numerical.csv\n",
      "  Extracted 11 tables from papers/paper.pdf\n"
     ]
    }
   ],
   "source": [
    "def is_numeric(value):\n",
    "    \"\"\"\n",
    "    Check if a value is numeric (integer or float).\n",
    "    \"\"\"\n",
    "    try:\n",
    "        float(value)  # Try converting to float\n",
    "        return True\n",
    "    except ValueError:\n",
    "        return False\n",
    "\n",
    "def extract_numerical_tables_from_pdfs(pdf_folder: str, output_folder: str):\n",
    "    \"\"\"\n",
    "    Extracts tables from all PDF files in a folder, filters numerical values,\n",
    "    and saves them as CSV files.\n",
    "\n",
    "    Parameters:\n",
    "        pdf_folder (str): Path to the folder containing the PDF files.\n",
    "        output_folder (str): Folder to save the extracted CSV files.\n",
    "    \"\"\"\n",
    "    # Ensure the output folder exists\n",
    "    if not os.path.exists(output_folder):\n",
    "        os.makedirs(output_folder)\n",
    "\n",
    "    # Get all PDF files in the folder\n",
    "    try:\n",
    "        pdf_files = [os.path.join(pdf_folder, f) for f in os.listdir(pdf_folder) if f.lower().endswith('.pdf')]\n",
    "        if not pdf_files:\n",
    "            print(f\"No PDF files found in the folder: {pdf_folder}\")\n",
    "            return\n",
    "    except Exception as e:\n",
    "        print(f\"Error accessing folder: {e}\")\n",
    "        return\n",
    "\n",
    "    # Process each PDF file\n",
    "    for pdf_path in pdf_files:\n",
    "        print(f\"Processing PDF: {pdf_path}\")\n",
    "        # Extract tables from the PDF\n",
    "        try:\n",
    "            tables = camelot.read_pdf(pdf_path, pages='all', flavor='stream')\n",
    "        except Exception as e:\n",
    "            print(f\"Error reading PDF {pdf_path}: {e}\")\n",
    "            continue  # Skip to the next PDF if there's an error\n",
    "\n",
    "        # Save each table as a CSV file (with only numerical values)\n",
    "        for i, table in enumerate(tables):\n",
    "            # Convert the table to a pandas DataFrame\n",
    "            df = table.df\n",
    "\n",
    "            # Filter numerical values using a list comprehension\n",
    "            numerical_df = pd.DataFrame([[x if is_numeric(x) else None for x in row] for row in df.values], columns=df.columns)\n",
    "\n",
    "            # Drop rows and columns with all NaN values\n",
    "            numerical_df.dropna(axis=0, how='all', inplace=True)  # Drop rows with all NaN\n",
    "            numerical_df.dropna(axis=1, how='all', inplace=True)  # Drop columns with all NaN\n",
    "\n",
    "            # Save the filtered DataFrame to a CSV file\n",
    "            # Include the PDF filename in the output path\n",
    "            pdf_filename = os.path.splitext(os.path.basename(pdf_path))[0]\n",
    "            csv_path = os.path.join(output_folder, f'{pdf_filename}_table_{i + 1}_numerical.csv')\n",
    "            numerical_df.to_csv(csv_path, index=False)\n",
    "            print(f\"  Numerical Table {i + 1} saved to {csv_path}\")\n",
    "\n",
    "        print(f\"  Extracted {len(tables)} tables from {pdf_path}\")\n",
    "\n",
    "# Example usage\n",
    "pdf_folder = 'papers/'  # Folder containing the PDF files\n",
    "output_folder = 'extracted_numerical_tables'  # Folder to save the CSV files\n",
    "\n",
    "if __name__ == \"__main__\":\n",
    "    extract_numerical_tables_from_pdfs(pdf_folder, output_folder)"
   ]
  },
  {
   "cell_type": "code",
   "execution_count": null,
   "id": "547356de",
   "metadata": {},
   "outputs": [],
   "source": []
  }
 ],
 "metadata": {
  "kernelspec": {
   "display_name": "Python 3 (ipykernel)",
   "language": "python",
   "name": "python3"
  },
  "language_info": {
   "codemirror_mode": {
    "name": "ipython",
    "version": 3
   },
   "file_extension": ".py",
   "mimetype": "text/x-python",
   "name": "python",
   "nbconvert_exporter": "python",
   "pygments_lexer": "ipython3",
   "version": "3.11.8"
  }
 },
 "nbformat": 4,
 "nbformat_minor": 5
}
